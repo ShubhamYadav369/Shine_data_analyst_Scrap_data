{
  "nbformat": 4,
  "nbformat_minor": 0,
  "metadata": {
    "colab": {
      "provenance": [],
      "authorship_tag": "ABX9TyOsGmKbXZOiarziVgrRJ8aS",
      "include_colab_link": true
    },
    "kernelspec": {
      "name": "python3",
      "display_name": "Python 3"
    },
    "language_info": {
      "name": "python"
    }
  },
  "cells": [
    {
      "cell_type": "markdown",
      "metadata": {
        "id": "view-in-github",
        "colab_type": "text"
      },
      "source": [
        "<a href=\"https://colab.research.google.com/github/ShubhamYadav369/Shine_data_analyst_Scrap_data/blob/main/Shine_data_analyst_Scrap_data.ipynb\" target=\"_parent\"><img src=\"https://colab.research.google.com/assets/colab-badge.svg\" alt=\"Open In Colab\"/></a>"
      ]
    },
    {
      "cell_type": "markdown",
      "source": [
        "# Numerical Programming in Python"
      ],
      "metadata": {
        "id": "nrg3xbHy_PdA"
      }
    },
    {
      "cell_type": "markdown",
      "source": [
        "Name:Shubham Yadav"
      ],
      "metadata": {
        "id": "beTeWOoi_1b_"
      }
    },
    {
      "cell_type": "markdown",
      "source": [
        "\n",
        "**Problem Statement: Navigating the Data Science Job Landscape**\n",
        "\n",
        "🚀 Unleash your creativity in crafting a solution that taps into the heartbeat of the data science job market! Envision an ingenious project that seamlessly wields cutting-edge web scraping techniques and illuminating data analysis.\n",
        "\n",
        "🔍 Your mission? To engineer a tool that effortlessly gathers job listings from a multitude of online sources, extracting pivotal nuggets such as job descriptions, qualifications, locations, and salaries.\n",
        "\n",
        "🧩 However, the true puzzle lies in deciphering this trove of data. Can your solution discern patterns that spotlight the most coveted skills? Are there threads connecting job types to compensation packages? How might it predict shifts in industry demand?\n",
        "\n",
        "🎯 The core objectives of this challenge are as follows:\n",
        "\n",
        "Web Scraping Mastery: Forge an adaptable and potent web scraping mechanism. Your creation should adeptly harvest data science job postings from a diverse array of online platforms. Be ready to navigate evolving website structures and process hefty data loads.\n",
        "\n",
        "Data Symphony: Skillfully distill vital insights from the harvested job listings. Extract and cleanse critical information like job titles, company names, descriptions, qualifications, salaries, locations, and deadlines. Think data refinement and organization.\n",
        "\n",
        "Market Wizardry: Conjure up analytical tools that conjure meaningful revelations from the gathered data. Dive into the abyss of job demand trends, geographic distribution, salary variations tied to experience and location, favored qualifications, and emerging skill demands.\n",
        "\n",
        "Visual Magic: Weave a tapestry of visualization magic. Design captivating charts, graphs, and visual representations that paint a crystal-clear picture of the analyzed data. Make these visuals the compass that guides users through job market intricacies.\n",
        "\n",
        "🌐 While the web scraping universe is yours to explore, consider these platforms as potential stomping grounds:\n",
        "\n",
        "LinkedIn Jobs\n",
        "Indeed\n",
        "Naukri\n",
        "Glassdoor\n",
        "AngelList\n",
        "🎈 Your solution should not only decode the data science job realm but also empower professionals, job seekers, and recruiters to harness the dynamic shifts of the industry. The path is open, the challenge beckons – are you ready to embark on this exciting journey?"
      ],
      "metadata": {
        "id": "txpwjwBO-34e"
      }
    },
    {
      "cell_type": "markdown",
      "source": [
        "# I am beginning the scraping process for my project."
      ],
      "metadata": {
        "id": "6UOIdx9SACMr"
      }
    },
    {
      "cell_type": "code",
      "execution_count": null,
      "metadata": {
        "id": "m_jxKPkS-1S8"
      },
      "outputs": [],
      "source": [
        "# Importing important libraries\n",
        "import warnings\n",
        "warnings.filterwarnings(\"ignore\")\n",
        "from bs4 import BeautifulSoup\n",
        "import requests\n",
        "import re\n",
        "import numpy as np\n",
        "import pandas as pd\n",
        "import matplotlib.pyplot as plt\n",
        "import seaborn as sns\n",
        "%matplotlib inline\n",
        "plt.rcParams['font.size'] = 12"
      ]
    },
    {
      "cell_type": "code",
      "source": [
        "# url response\n",
        "url = 'https://www.shine.com/job-search/data-analyst-jobs-in-delhi?q=data%20analyst&loc=delhi'\n",
        "response = requests.get(url)\n",
        "print('The response that we got back from the URL is', response.status_code)"
      ],
      "metadata": {
        "colab": {
          "base_uri": "https://localhost:8080/"
        },
        "id": "-gF9pzJsAIjF",
        "outputId": "e176c042-7cf2-4b3f-e850-3bb4744309d1"
      },
      "execution_count": null,
      "outputs": [
        {
          "output_type": "stream",
          "name": "stdout",
          "text": [
            "The response that we got back from the URL is 200\n"
          ]
        }
      ]
    },
    {
      "cell_type": "code",
      "source": [
        "# parsing html\n",
        "soup = BeautifulSoup(response.text,'html.parser')\n",
        "html = soup.find_all('div')"
      ],
      "metadata": {
        "id": "LZ-ugj4nAK_Z"
      },
      "execution_count": null,
      "outputs": []
    },
    {
      "cell_type": "code",
      "source": [
        "# fetching the text from the html and Removing any spaces\n",
        "req = soup.select('div h2[itemprop=\"name\"]')\n",
        "titles = [r.text for r in req]\n",
        "titles = [t.replace(\"  \", \"\") for t in titles]\n",
        "titles[:5]"
      ],
      "metadata": {
        "colab": {
          "base_uri": "https://localhost:8080/"
        },
        "id": "2_m_HdM_AQP1",
        "outputId": "dc8d3592-85be-42aa-a870-1ffabb89fec7"
      },
      "execution_count": null,
      "outputs": [
        {
          "output_type": "execute_result",
          "data": {
            "text/plain": [
              "['Data Analyst , Senior Data Analyst , Data Analyst - Tec ...',\n",
              " 'Data Analyst / Senior Data Analyst',\n",
              " 'Data Analyst SPSS Advance Excel',\n",
              " 'Varahe Analytics - Data Analyst - VBA/Tableau/Power BI',\n",
              " 'Senior Data Analyst']"
            ]
          },
          "metadata": {},
          "execution_count": 29
        }
      ]
    },
    {
      "cell_type": "code",
      "source": [
        "orgs = soup.find_all('div', class_='jobCard_jobCard_cName__mYnow')\n",
        "# fetching the text from the HTML\n",
        "orgs1 = [o.text for o in orgs]\n",
        "sub_string ='Hiring'\n",
        "# Splitting the string on a sub string and getting the first index (Cleaning up names)\n",
        "orgs1 = [o.split(sub_string)[0] for o in orgs1]\n",
        "# Removing any spaces\n",
        "orgs1 = [o.strip() for o in orgs1]"
      ],
      "metadata": {
        "id": "z_rOTl0EAStx"
      },
      "execution_count": null,
      "outputs": []
    },
    {
      "cell_type": "code",
      "source": [
        "orgs1[:5]"
      ],
      "metadata": {
        "colab": {
          "base_uri": "https://localhost:8080/"
        },
        "id": "IyV76jFBAXB7",
        "outputId": "6393c7de-8cdc-4e6b-a2c7-6f52092489c2"
      },
      "execution_count": null,
      "outputs": [
        {
          "output_type": "execute_result",
          "data": {
            "text/plain": [
              "['AppSoft Solutions',\n",
              " 'iCRC',\n",
              " 'Cocentrus',\n",
              " 'Varahe Analytics Private Limited',\n",
              " 'Inc42 Media']"
            ]
          },
          "metadata": {},
          "execution_count": 31
        }
      ]
    },
    {
      "cell_type": "code",
      "source": [
        "# fetching the HTML data from the class where the location data is available\n",
        "loc = soup.find_all('div', class_='jobCard_jobCard_lists__fdnsc')\n",
        "location = [l.text for l in loc]\n",
        "location = [re.findall(\"Yrs?(.*)$\", i)[0] for i in location]\n",
        "location = [l.replace(\"+4\", \", \") for l in location]"
      ],
      "metadata": {
        "id": "h0TJplHUAZp7"
      },
      "execution_count": null,
      "outputs": []
    },
    {
      "cell_type": "code",
      "source": [
        "location[:5]"
      ],
      "metadata": {
        "colab": {
          "base_uri": "https://localhost:8080/"
        },
        "id": "NLZM5y48Adjs",
        "outputId": "9f1256bc-7bef-443f-b44f-540c40da92c3"
      },
      "execution_count": null,
      "outputs": [
        {
          "output_type": "execute_result",
          "data": {
            "text/plain": [
              "['Delhi+8Noida, Bangalore, Chennai, Hyderabad, Gurugram, Kolkata, Pune, Mumbai City',\n",
              " 'Delhi',\n",
              " 'Noida',\n",
              " 'Delhi',\n",
              " 'Delhi']"
            ]
          },
          "metadata": {},
          "execution_count": 33
        }
      ]
    },
    {
      "cell_type": "code",
      "source": [
        "# fetching the text from the loc variable for the experience\n",
        "exp = [l.text for l in loc]\n",
        "experience = [re.findall(\"^(.*) Yrs?\", i)[0] for i in exp]"
      ],
      "metadata": {
        "id": "10so6NvaAhhb"
      },
      "execution_count": null,
      "outputs": []
    },
    {
      "cell_type": "code",
      "source": [
        "experience[:5]"
      ],
      "metadata": {
        "colab": {
          "base_uri": "https://localhost:8080/"
        },
        "id": "4e8cTCsgAm1-",
        "outputId": "2581a1e2-d2b7-4ca9-eb02-427089777352"
      },
      "execution_count": null,
      "outputs": [
        {
          "output_type": "execute_result",
          "data": {
            "text/plain": [
              "['0 to 4', '3 to 8', '5 to 10', '2 to 6', '4 to 8']"
            ]
          },
          "metadata": {},
          "execution_count": 35
        }
      ]
    },
    {
      "cell_type": "code",
      "source": [
        "vac = soup.find_all('ul', class_='jobCard_jobCard_jobDetail__jD82J')\n",
        "# fetching the text from the HTML\n",
        "vac = [v.text for v in vac ]"
      ],
      "metadata": {
        "id": "zaBK-y91AsB2"
      },
      "execution_count": null,
      "outputs": []
    },
    {
      "cell_type": "code",
      "source": [
        "# Cleaning up the data\n",
        "vacancies = [int(re.findall(r'\\d+', text)[0]) if re.findall(r'\\d+', text) else 1 for text in vac]"
      ],
      "metadata": {
        "id": "moufu1JuAvKa"
      },
      "execution_count": null,
      "outputs": []
    },
    {
      "cell_type": "code",
      "source": [
        "vacancies[:5]"
      ],
      "metadata": {
        "colab": {
          "base_uri": "https://localhost:8080/"
        },
        "id": "8kvjXwcsAw5p",
        "outputId": "37a95d52-cc7b-42d6-9d13-fcc22d9a5d4f"
      },
      "execution_count": null,
      "outputs": [
        {
          "output_type": "execute_result",
          "data": {
            "text/plain": [
              "[10, 1, 1, 1, 1]"
            ]
          },
          "metadata": {},
          "execution_count": 38
        }
      ]
    },
    {
      "cell_type": "code",
      "source": [
        "data = {'Titles':titles, 'Firm Name': orgs1,\n",
        "        'Job Location':location, 'Experience':experience,\n",
        "        'Positions': vacancies}\n",
        "df = pd.DataFrame(data)"
      ],
      "metadata": {
        "id": "2rCT4QR5AzZy"
      },
      "execution_count": null,
      "outputs": []
    },
    {
      "cell_type": "code",
      "source": [
        "# Checking for duplicates based on the titles column (you can pick any other column of your choice)\n",
        "df['Titles'].duplicated().sum()"
      ],
      "metadata": {
        "colab": {
          "base_uri": "https://localhost:8080/"
        },
        "id": "xkBCGUrIA1gM",
        "outputId": "f18461e2-4cfe-4e98-91e4-ad8e9c949508"
      },
      "execution_count": null,
      "outputs": [
        {
          "output_type": "execute_result",
          "data": {
            "text/plain": [
              "6"
            ]
          },
          "metadata": {},
          "execution_count": 40
        }
      ]
    },
    {
      "cell_type": "code",
      "source": [
        "# Dropping duplicates\n",
        "df.drop_duplicates(subset='Titles', inplace=True)"
      ],
      "metadata": {
        "id": "-Dh-kHFNA36Z"
      },
      "execution_count": null,
      "outputs": []
    },
    {
      "cell_type": "code",
      "source": [
        "# checking  duplicates  dropped or not\n",
        "df['Titles'].duplicated().sum()"
      ],
      "metadata": {
        "colab": {
          "base_uri": "https://localhost:8080/"
        },
        "id": "q8j04pEJA59-",
        "outputId": "bc7265a2-ba76-49c2-e265-e79a103a4191"
      },
      "execution_count": null,
      "outputs": [
        {
          "output_type": "execute_result",
          "data": {
            "text/plain": [
              "0"
            ]
          },
          "metadata": {},
          "execution_count": 42
        }
      ]
    },
    {
      "cell_type": "code",
      "source": [
        "df.head()"
      ],
      "metadata": {
        "colab": {
          "base_uri": "https://localhost:8080/",
          "height": 206
        },
        "id": "rmlDI-lGA76h",
        "outputId": "b7500f2b-1c15-41f8-b2f3-77d923e7e6a9"
      },
      "execution_count": null,
      "outputs": [
        {
          "output_type": "execute_result",
          "data": {
            "text/plain": [
              "                                              Titles  \\\n",
              "0  Data Analyst , Senior Data Analyst , Data Anal...   \n",
              "1                 Data Analyst / Senior Data Analyst   \n",
              "2                    Data Analyst SPSS Advance Excel   \n",
              "3  Varahe Analytics - Data Analyst - VBA/Tableau/...   \n",
              "4                                Senior Data Analyst   \n",
              "\n",
              "                          Firm Name  \\\n",
              "0                 AppSoft Solutions   \n",
              "1                              iCRC   \n",
              "2                         Cocentrus   \n",
              "3  Varahe Analytics Private Limited   \n",
              "4                       Inc42 Media   \n",
              "\n",
              "                                        Job Location Experience  Positions  \n",
              "0  Delhi+8Noida, Bangalore, Chennai, Hyderabad, G...     0 to 4         10  \n",
              "1                                              Delhi     3 to 8          1  \n",
              "2                                              Noida    5 to 10          1  \n",
              "3                                              Delhi     2 to 6          1  \n",
              "4                                              Delhi     4 to 8          1  "
            ],
            "text/html": [
              "\n",
              "  <div id=\"df-479b7ada-02b7-46a3-935b-913c69d0d046\" class=\"colab-df-container\">\n",
              "    <div>\n",
              "<style scoped>\n",
              "    .dataframe tbody tr th:only-of-type {\n",
              "        vertical-align: middle;\n",
              "    }\n",
              "\n",
              "    .dataframe tbody tr th {\n",
              "        vertical-align: top;\n",
              "    }\n",
              "\n",
              "    .dataframe thead th {\n",
              "        text-align: right;\n",
              "    }\n",
              "</style>\n",
              "<table border=\"1\" class=\"dataframe\">\n",
              "  <thead>\n",
              "    <tr style=\"text-align: right;\">\n",
              "      <th></th>\n",
              "      <th>Titles</th>\n",
              "      <th>Firm Name</th>\n",
              "      <th>Job Location</th>\n",
              "      <th>Experience</th>\n",
              "      <th>Positions</th>\n",
              "    </tr>\n",
              "  </thead>\n",
              "  <tbody>\n",
              "    <tr>\n",
              "      <th>0</th>\n",
              "      <td>Data Analyst , Senior Data Analyst , Data Anal...</td>\n",
              "      <td>AppSoft Solutions</td>\n",
              "      <td>Delhi+8Noida, Bangalore, Chennai, Hyderabad, G...</td>\n",
              "      <td>0 to 4</td>\n",
              "      <td>10</td>\n",
              "    </tr>\n",
              "    <tr>\n",
              "      <th>1</th>\n",
              "      <td>Data Analyst / Senior Data Analyst</td>\n",
              "      <td>iCRC</td>\n",
              "      <td>Delhi</td>\n",
              "      <td>3 to 8</td>\n",
              "      <td>1</td>\n",
              "    </tr>\n",
              "    <tr>\n",
              "      <th>2</th>\n",
              "      <td>Data Analyst SPSS Advance Excel</td>\n",
              "      <td>Cocentrus</td>\n",
              "      <td>Noida</td>\n",
              "      <td>5 to 10</td>\n",
              "      <td>1</td>\n",
              "    </tr>\n",
              "    <tr>\n",
              "      <th>3</th>\n",
              "      <td>Varahe Analytics - Data Analyst - VBA/Tableau/...</td>\n",
              "      <td>Varahe Analytics Private Limited</td>\n",
              "      <td>Delhi</td>\n",
              "      <td>2 to 6</td>\n",
              "      <td>1</td>\n",
              "    </tr>\n",
              "    <tr>\n",
              "      <th>4</th>\n",
              "      <td>Senior Data Analyst</td>\n",
              "      <td>Inc42 Media</td>\n",
              "      <td>Delhi</td>\n",
              "      <td>4 to 8</td>\n",
              "      <td>1</td>\n",
              "    </tr>\n",
              "  </tbody>\n",
              "</table>\n",
              "</div>\n",
              "    <div class=\"colab-df-buttons\">\n",
              "\n",
              "  <div class=\"colab-df-container\">\n",
              "    <button class=\"colab-df-convert\" onclick=\"convertToInteractive('df-479b7ada-02b7-46a3-935b-913c69d0d046')\"\n",
              "            title=\"Convert this dataframe to an interactive table.\"\n",
              "            style=\"display:none;\">\n",
              "\n",
              "  <svg xmlns=\"http://www.w3.org/2000/svg\" height=\"24px\" viewBox=\"0 -960 960 960\">\n",
              "    <path d=\"M120-120v-720h720v720H120Zm60-500h600v-160H180v160Zm220 220h160v-160H400v160Zm0 220h160v-160H400v160ZM180-400h160v-160H180v160Zm440 0h160v-160H620v160ZM180-180h160v-160H180v160Zm440 0h160v-160H620v160Z\"/>\n",
              "  </svg>\n",
              "    </button>\n",
              "\n",
              "  <style>\n",
              "    .colab-df-container {\n",
              "      display:flex;\n",
              "      gap: 12px;\n",
              "    }\n",
              "\n",
              "    .colab-df-convert {\n",
              "      background-color: #E8F0FE;\n",
              "      border: none;\n",
              "      border-radius: 50%;\n",
              "      cursor: pointer;\n",
              "      display: none;\n",
              "      fill: #1967D2;\n",
              "      height: 32px;\n",
              "      padding: 0 0 0 0;\n",
              "      width: 32px;\n",
              "    }\n",
              "\n",
              "    .colab-df-convert:hover {\n",
              "      background-color: #E2EBFA;\n",
              "      box-shadow: 0px 1px 2px rgba(60, 64, 67, 0.3), 0px 1px 3px 1px rgba(60, 64, 67, 0.15);\n",
              "      fill: #174EA6;\n",
              "    }\n",
              "\n",
              "    .colab-df-buttons div {\n",
              "      margin-bottom: 4px;\n",
              "    }\n",
              "\n",
              "    [theme=dark] .colab-df-convert {\n",
              "      background-color: #3B4455;\n",
              "      fill: #D2E3FC;\n",
              "    }\n",
              "\n",
              "    [theme=dark] .colab-df-convert:hover {\n",
              "      background-color: #434B5C;\n",
              "      box-shadow: 0px 1px 3px 1px rgba(0, 0, 0, 0.15);\n",
              "      filter: drop-shadow(0px 1px 2px rgba(0, 0, 0, 0.3));\n",
              "      fill: #FFFFFF;\n",
              "    }\n",
              "  </style>\n",
              "\n",
              "    <script>\n",
              "      const buttonEl =\n",
              "        document.querySelector('#df-479b7ada-02b7-46a3-935b-913c69d0d046 button.colab-df-convert');\n",
              "      buttonEl.style.display =\n",
              "        google.colab.kernel.accessAllowed ? 'block' : 'none';\n",
              "\n",
              "      async function convertToInteractive(key) {\n",
              "        const element = document.querySelector('#df-479b7ada-02b7-46a3-935b-913c69d0d046');\n",
              "        const dataTable =\n",
              "          await google.colab.kernel.invokeFunction('convertToInteractive',\n",
              "                                                    [key], {});\n",
              "        if (!dataTable) return;\n",
              "\n",
              "        const docLinkHtml = 'Like what you see? Visit the ' +\n",
              "          '<a target=\"_blank\" href=https://colab.research.google.com/notebooks/data_table.ipynb>data table notebook</a>'\n",
              "          + ' to learn more about interactive tables.';\n",
              "        element.innerHTML = '';\n",
              "        dataTable['output_type'] = 'display_data';\n",
              "        await google.colab.output.renderOutput(dataTable, element);\n",
              "        const docLink = document.createElement('div');\n",
              "        docLink.innerHTML = docLinkHtml;\n",
              "        element.appendChild(docLink);\n",
              "      }\n",
              "    </script>\n",
              "  </div>\n",
              "\n",
              "\n",
              "<div id=\"df-7719775a-dbd9-46dc-b2cd-907cd778b54b\">\n",
              "  <button class=\"colab-df-quickchart\" onclick=\"quickchart('df-7719775a-dbd9-46dc-b2cd-907cd778b54b')\"\n",
              "            title=\"Suggest charts\"\n",
              "            style=\"display:none;\">\n",
              "\n",
              "<svg xmlns=\"http://www.w3.org/2000/svg\" height=\"24px\"viewBox=\"0 0 24 24\"\n",
              "     width=\"24px\">\n",
              "    <g>\n",
              "        <path d=\"M19 3H5c-1.1 0-2 .9-2 2v14c0 1.1.9 2 2 2h14c1.1 0 2-.9 2-2V5c0-1.1-.9-2-2-2zM9 17H7v-7h2v7zm4 0h-2V7h2v10zm4 0h-2v-4h2v4z\"/>\n",
              "    </g>\n",
              "</svg>\n",
              "  </button>\n",
              "\n",
              "<style>\n",
              "  .colab-df-quickchart {\n",
              "      --bg-color: #E8F0FE;\n",
              "      --fill-color: #1967D2;\n",
              "      --hover-bg-color: #E2EBFA;\n",
              "      --hover-fill-color: #174EA6;\n",
              "      --disabled-fill-color: #AAA;\n",
              "      --disabled-bg-color: #DDD;\n",
              "  }\n",
              "\n",
              "  [theme=dark] .colab-df-quickchart {\n",
              "      --bg-color: #3B4455;\n",
              "      --fill-color: #D2E3FC;\n",
              "      --hover-bg-color: #434B5C;\n",
              "      --hover-fill-color: #FFFFFF;\n",
              "      --disabled-bg-color: #3B4455;\n",
              "      --disabled-fill-color: #666;\n",
              "  }\n",
              "\n",
              "  .colab-df-quickchart {\n",
              "    background-color: var(--bg-color);\n",
              "    border: none;\n",
              "    border-radius: 50%;\n",
              "    cursor: pointer;\n",
              "    display: none;\n",
              "    fill: var(--fill-color);\n",
              "    height: 32px;\n",
              "    padding: 0;\n",
              "    width: 32px;\n",
              "  }\n",
              "\n",
              "  .colab-df-quickchart:hover {\n",
              "    background-color: var(--hover-bg-color);\n",
              "    box-shadow: 0 1px 2px rgba(60, 64, 67, 0.3), 0 1px 3px 1px rgba(60, 64, 67, 0.15);\n",
              "    fill: var(--button-hover-fill-color);\n",
              "  }\n",
              "\n",
              "  .colab-df-quickchart-complete:disabled,\n",
              "  .colab-df-quickchart-complete:disabled:hover {\n",
              "    background-color: var(--disabled-bg-color);\n",
              "    fill: var(--disabled-fill-color);\n",
              "    box-shadow: none;\n",
              "  }\n",
              "\n",
              "  .colab-df-spinner {\n",
              "    border: 2px solid var(--fill-color);\n",
              "    border-color: transparent;\n",
              "    border-bottom-color: var(--fill-color);\n",
              "    animation:\n",
              "      spin 1s steps(1) infinite;\n",
              "  }\n",
              "\n",
              "  @keyframes spin {\n",
              "    0% {\n",
              "      border-color: transparent;\n",
              "      border-bottom-color: var(--fill-color);\n",
              "      border-left-color: var(--fill-color);\n",
              "    }\n",
              "    20% {\n",
              "      border-color: transparent;\n",
              "      border-left-color: var(--fill-color);\n",
              "      border-top-color: var(--fill-color);\n",
              "    }\n",
              "    30% {\n",
              "      border-color: transparent;\n",
              "      border-left-color: var(--fill-color);\n",
              "      border-top-color: var(--fill-color);\n",
              "      border-right-color: var(--fill-color);\n",
              "    }\n",
              "    40% {\n",
              "      border-color: transparent;\n",
              "      border-right-color: var(--fill-color);\n",
              "      border-top-color: var(--fill-color);\n",
              "    }\n",
              "    60% {\n",
              "      border-color: transparent;\n",
              "      border-right-color: var(--fill-color);\n",
              "    }\n",
              "    80% {\n",
              "      border-color: transparent;\n",
              "      border-right-color: var(--fill-color);\n",
              "      border-bottom-color: var(--fill-color);\n",
              "    }\n",
              "    90% {\n",
              "      border-color: transparent;\n",
              "      border-bottom-color: var(--fill-color);\n",
              "    }\n",
              "  }\n",
              "</style>\n",
              "\n",
              "  <script>\n",
              "    async function quickchart(key) {\n",
              "      const quickchartButtonEl =\n",
              "        document.querySelector('#' + key + ' button');\n",
              "      quickchartButtonEl.disabled = true;  // To prevent multiple clicks.\n",
              "      quickchartButtonEl.classList.add('colab-df-spinner');\n",
              "      try {\n",
              "        const charts = await google.colab.kernel.invokeFunction(\n",
              "            'suggestCharts', [key], {});\n",
              "      } catch (error) {\n",
              "        console.error('Error during call to suggestCharts:', error);\n",
              "      }\n",
              "      quickchartButtonEl.classList.remove('colab-df-spinner');\n",
              "      quickchartButtonEl.classList.add('colab-df-quickchart-complete');\n",
              "    }\n",
              "    (() => {\n",
              "      let quickchartButtonEl =\n",
              "        document.querySelector('#df-7719775a-dbd9-46dc-b2cd-907cd778b54b button');\n",
              "      quickchartButtonEl.style.display =\n",
              "        google.colab.kernel.accessAllowed ? 'block' : 'none';\n",
              "    })();\n",
              "  </script>\n",
              "</div>\n",
              "    </div>\n",
              "  </div>\n"
            ]
          },
          "metadata": {},
          "execution_count": 43
        }
      ]
    },
    {
      "cell_type": "code",
      "source": [
        "# Creating a New Column\n",
        "df['Category'] = ['Fresher' if '0' in i else 'Experienced' for i in df['Experience']]"
      ],
      "metadata": {
        "id": "CFGVoXIjA-Ln"
      },
      "execution_count": null,
      "outputs": []
    },
    {
      "cell_type": "code",
      "source": [
        "# DataFrame created based on Descending values\n",
        "final_df = df.sort_values(by='Positions', ascending=False)\n",
        "final_df.head()"
      ],
      "metadata": {
        "colab": {
          "base_uri": "https://localhost:8080/",
          "height": 206
        },
        "id": "8dHu22EXBBCJ",
        "outputId": "86f68a7e-be5a-46d4-9abb-219c581f40ba"
      },
      "execution_count": null,
      "outputs": [
        {
          "output_type": "execute_result",
          "data": {
            "text/plain": [
              "                                              Titles  \\\n",
              "0  Data Analyst , Senior Data Analyst , Data Anal...   \n",
              "1                 Data Analyst / Senior Data Analyst   \n",
              "2                    Data Analyst SPSS Advance Excel   \n",
              "3  Varahe Analytics - Data Analyst - VBA/Tableau/...   \n",
              "4                                Senior Data Analyst   \n",
              "\n",
              "                          Firm Name  \\\n",
              "0                 AppSoft Solutions   \n",
              "1                              iCRC   \n",
              "2                         Cocentrus   \n",
              "3  Varahe Analytics Private Limited   \n",
              "4                       Inc42 Media   \n",
              "\n",
              "                                        Job Location Experience  Positions  \\\n",
              "0  Delhi+8Noida, Bangalore, Chennai, Hyderabad, G...     0 to 4         10   \n",
              "1                                              Delhi     3 to 8          1   \n",
              "2                                              Noida    5 to 10          1   \n",
              "3                                              Delhi     2 to 6          1   \n",
              "4                                              Delhi     4 to 8          1   \n",
              "\n",
              "      Category  \n",
              "0      Fresher  \n",
              "1  Experienced  \n",
              "2      Fresher  \n",
              "3  Experienced  \n",
              "4  Experienced  "
            ],
            "text/html": [
              "\n",
              "  <div id=\"df-3e440037-4049-43e9-8abd-c11020af29b0\" class=\"colab-df-container\">\n",
              "    <div>\n",
              "<style scoped>\n",
              "    .dataframe tbody tr th:only-of-type {\n",
              "        vertical-align: middle;\n",
              "    }\n",
              "\n",
              "    .dataframe tbody tr th {\n",
              "        vertical-align: top;\n",
              "    }\n",
              "\n",
              "    .dataframe thead th {\n",
              "        text-align: right;\n",
              "    }\n",
              "</style>\n",
              "<table border=\"1\" class=\"dataframe\">\n",
              "  <thead>\n",
              "    <tr style=\"text-align: right;\">\n",
              "      <th></th>\n",
              "      <th>Titles</th>\n",
              "      <th>Firm Name</th>\n",
              "      <th>Job Location</th>\n",
              "      <th>Experience</th>\n",
              "      <th>Positions</th>\n",
              "      <th>Category</th>\n",
              "    </tr>\n",
              "  </thead>\n",
              "  <tbody>\n",
              "    <tr>\n",
              "      <th>0</th>\n",
              "      <td>Data Analyst , Senior Data Analyst , Data Anal...</td>\n",
              "      <td>AppSoft Solutions</td>\n",
              "      <td>Delhi+8Noida, Bangalore, Chennai, Hyderabad, G...</td>\n",
              "      <td>0 to 4</td>\n",
              "      <td>10</td>\n",
              "      <td>Fresher</td>\n",
              "    </tr>\n",
              "    <tr>\n",
              "      <th>1</th>\n",
              "      <td>Data Analyst / Senior Data Analyst</td>\n",
              "      <td>iCRC</td>\n",
              "      <td>Delhi</td>\n",
              "      <td>3 to 8</td>\n",
              "      <td>1</td>\n",
              "      <td>Experienced</td>\n",
              "    </tr>\n",
              "    <tr>\n",
              "      <th>2</th>\n",
              "      <td>Data Analyst SPSS Advance Excel</td>\n",
              "      <td>Cocentrus</td>\n",
              "      <td>Noida</td>\n",
              "      <td>5 to 10</td>\n",
              "      <td>1</td>\n",
              "      <td>Fresher</td>\n",
              "    </tr>\n",
              "    <tr>\n",
              "      <th>3</th>\n",
              "      <td>Varahe Analytics - Data Analyst - VBA/Tableau/...</td>\n",
              "      <td>Varahe Analytics Private Limited</td>\n",
              "      <td>Delhi</td>\n",
              "      <td>2 to 6</td>\n",
              "      <td>1</td>\n",
              "      <td>Experienced</td>\n",
              "    </tr>\n",
              "    <tr>\n",
              "      <th>4</th>\n",
              "      <td>Senior Data Analyst</td>\n",
              "      <td>Inc42 Media</td>\n",
              "      <td>Delhi</td>\n",
              "      <td>4 to 8</td>\n",
              "      <td>1</td>\n",
              "      <td>Experienced</td>\n",
              "    </tr>\n",
              "  </tbody>\n",
              "</table>\n",
              "</div>\n",
              "    <div class=\"colab-df-buttons\">\n",
              "\n",
              "  <div class=\"colab-df-container\">\n",
              "    <button class=\"colab-df-convert\" onclick=\"convertToInteractive('df-3e440037-4049-43e9-8abd-c11020af29b0')\"\n",
              "            title=\"Convert this dataframe to an interactive table.\"\n",
              "            style=\"display:none;\">\n",
              "\n",
              "  <svg xmlns=\"http://www.w3.org/2000/svg\" height=\"24px\" viewBox=\"0 -960 960 960\">\n",
              "    <path d=\"M120-120v-720h720v720H120Zm60-500h600v-160H180v160Zm220 220h160v-160H400v160Zm0 220h160v-160H400v160ZM180-400h160v-160H180v160Zm440 0h160v-160H620v160ZM180-180h160v-160H180v160Zm440 0h160v-160H620v160Z\"/>\n",
              "  </svg>\n",
              "    </button>\n",
              "\n",
              "  <style>\n",
              "    .colab-df-container {\n",
              "      display:flex;\n",
              "      gap: 12px;\n",
              "    }\n",
              "\n",
              "    .colab-df-convert {\n",
              "      background-color: #E8F0FE;\n",
              "      border: none;\n",
              "      border-radius: 50%;\n",
              "      cursor: pointer;\n",
              "      display: none;\n",
              "      fill: #1967D2;\n",
              "      height: 32px;\n",
              "      padding: 0 0 0 0;\n",
              "      width: 32px;\n",
              "    }\n",
              "\n",
              "    .colab-df-convert:hover {\n",
              "      background-color: #E2EBFA;\n",
              "      box-shadow: 0px 1px 2px rgba(60, 64, 67, 0.3), 0px 1px 3px 1px rgba(60, 64, 67, 0.15);\n",
              "      fill: #174EA6;\n",
              "    }\n",
              "\n",
              "    .colab-df-buttons div {\n",
              "      margin-bottom: 4px;\n",
              "    }\n",
              "\n",
              "    [theme=dark] .colab-df-convert {\n",
              "      background-color: #3B4455;\n",
              "      fill: #D2E3FC;\n",
              "    }\n",
              "\n",
              "    [theme=dark] .colab-df-convert:hover {\n",
              "      background-color: #434B5C;\n",
              "      box-shadow: 0px 1px 3px 1px rgba(0, 0, 0, 0.15);\n",
              "      filter: drop-shadow(0px 1px 2px rgba(0, 0, 0, 0.3));\n",
              "      fill: #FFFFFF;\n",
              "    }\n",
              "  </style>\n",
              "\n",
              "    <script>\n",
              "      const buttonEl =\n",
              "        document.querySelector('#df-3e440037-4049-43e9-8abd-c11020af29b0 button.colab-df-convert');\n",
              "      buttonEl.style.display =\n",
              "        google.colab.kernel.accessAllowed ? 'block' : 'none';\n",
              "\n",
              "      async function convertToInteractive(key) {\n",
              "        const element = document.querySelector('#df-3e440037-4049-43e9-8abd-c11020af29b0');\n",
              "        const dataTable =\n",
              "          await google.colab.kernel.invokeFunction('convertToInteractive',\n",
              "                                                    [key], {});\n",
              "        if (!dataTable) return;\n",
              "\n",
              "        const docLinkHtml = 'Like what you see? Visit the ' +\n",
              "          '<a target=\"_blank\" href=https://colab.research.google.com/notebooks/data_table.ipynb>data table notebook</a>'\n",
              "          + ' to learn more about interactive tables.';\n",
              "        element.innerHTML = '';\n",
              "        dataTable['output_type'] = 'display_data';\n",
              "        await google.colab.output.renderOutput(dataTable, element);\n",
              "        const docLink = document.createElement('div');\n",
              "        docLink.innerHTML = docLinkHtml;\n",
              "        element.appendChild(docLink);\n",
              "      }\n",
              "    </script>\n",
              "  </div>\n",
              "\n",
              "\n",
              "<div id=\"df-2a51f9f6-b90b-42e3-afce-e2e7ae8407ee\">\n",
              "  <button class=\"colab-df-quickchart\" onclick=\"quickchart('df-2a51f9f6-b90b-42e3-afce-e2e7ae8407ee')\"\n",
              "            title=\"Suggest charts\"\n",
              "            style=\"display:none;\">\n",
              "\n",
              "<svg xmlns=\"http://www.w3.org/2000/svg\" height=\"24px\"viewBox=\"0 0 24 24\"\n",
              "     width=\"24px\">\n",
              "    <g>\n",
              "        <path d=\"M19 3H5c-1.1 0-2 .9-2 2v14c0 1.1.9 2 2 2h14c1.1 0 2-.9 2-2V5c0-1.1-.9-2-2-2zM9 17H7v-7h2v7zm4 0h-2V7h2v10zm4 0h-2v-4h2v4z\"/>\n",
              "    </g>\n",
              "</svg>\n",
              "  </button>\n",
              "\n",
              "<style>\n",
              "  .colab-df-quickchart {\n",
              "      --bg-color: #E8F0FE;\n",
              "      --fill-color: #1967D2;\n",
              "      --hover-bg-color: #E2EBFA;\n",
              "      --hover-fill-color: #174EA6;\n",
              "      --disabled-fill-color: #AAA;\n",
              "      --disabled-bg-color: #DDD;\n",
              "  }\n",
              "\n",
              "  [theme=dark] .colab-df-quickchart {\n",
              "      --bg-color: #3B4455;\n",
              "      --fill-color: #D2E3FC;\n",
              "      --hover-bg-color: #434B5C;\n",
              "      --hover-fill-color: #FFFFFF;\n",
              "      --disabled-bg-color: #3B4455;\n",
              "      --disabled-fill-color: #666;\n",
              "  }\n",
              "\n",
              "  .colab-df-quickchart {\n",
              "    background-color: var(--bg-color);\n",
              "    border: none;\n",
              "    border-radius: 50%;\n",
              "    cursor: pointer;\n",
              "    display: none;\n",
              "    fill: var(--fill-color);\n",
              "    height: 32px;\n",
              "    padding: 0;\n",
              "    width: 32px;\n",
              "  }\n",
              "\n",
              "  .colab-df-quickchart:hover {\n",
              "    background-color: var(--hover-bg-color);\n",
              "    box-shadow: 0 1px 2px rgba(60, 64, 67, 0.3), 0 1px 3px 1px rgba(60, 64, 67, 0.15);\n",
              "    fill: var(--button-hover-fill-color);\n",
              "  }\n",
              "\n",
              "  .colab-df-quickchart-complete:disabled,\n",
              "  .colab-df-quickchart-complete:disabled:hover {\n",
              "    background-color: var(--disabled-bg-color);\n",
              "    fill: var(--disabled-fill-color);\n",
              "    box-shadow: none;\n",
              "  }\n",
              "\n",
              "  .colab-df-spinner {\n",
              "    border: 2px solid var(--fill-color);\n",
              "    border-color: transparent;\n",
              "    border-bottom-color: var(--fill-color);\n",
              "    animation:\n",
              "      spin 1s steps(1) infinite;\n",
              "  }\n",
              "\n",
              "  @keyframes spin {\n",
              "    0% {\n",
              "      border-color: transparent;\n",
              "      border-bottom-color: var(--fill-color);\n",
              "      border-left-color: var(--fill-color);\n",
              "    }\n",
              "    20% {\n",
              "      border-color: transparent;\n",
              "      border-left-color: var(--fill-color);\n",
              "      border-top-color: var(--fill-color);\n",
              "    }\n",
              "    30% {\n",
              "      border-color: transparent;\n",
              "      border-left-color: var(--fill-color);\n",
              "      border-top-color: var(--fill-color);\n",
              "      border-right-color: var(--fill-color);\n",
              "    }\n",
              "    40% {\n",
              "      border-color: transparent;\n",
              "      border-right-color: var(--fill-color);\n",
              "      border-top-color: var(--fill-color);\n",
              "    }\n",
              "    60% {\n",
              "      border-color: transparent;\n",
              "      border-right-color: var(--fill-color);\n",
              "    }\n",
              "    80% {\n",
              "      border-color: transparent;\n",
              "      border-right-color: var(--fill-color);\n",
              "      border-bottom-color: var(--fill-color);\n",
              "    }\n",
              "    90% {\n",
              "      border-color: transparent;\n",
              "      border-bottom-color: var(--fill-color);\n",
              "    }\n",
              "  }\n",
              "</style>\n",
              "\n",
              "  <script>\n",
              "    async function quickchart(key) {\n",
              "      const quickchartButtonEl =\n",
              "        document.querySelector('#' + key + ' button');\n",
              "      quickchartButtonEl.disabled = true;  // To prevent multiple clicks.\n",
              "      quickchartButtonEl.classList.add('colab-df-spinner');\n",
              "      try {\n",
              "        const charts = await google.colab.kernel.invokeFunction(\n",
              "            'suggestCharts', [key], {});\n",
              "      } catch (error) {\n",
              "        console.error('Error during call to suggestCharts:', error);\n",
              "      }\n",
              "      quickchartButtonEl.classList.remove('colab-df-spinner');\n",
              "      quickchartButtonEl.classList.add('colab-df-quickchart-complete');\n",
              "    }\n",
              "    (() => {\n",
              "      let quickchartButtonEl =\n",
              "        document.querySelector('#df-2a51f9f6-b90b-42e3-afce-e2e7ae8407ee button');\n",
              "      quickchartButtonEl.style.display =\n",
              "        google.colab.kernel.accessAllowed ? 'block' : 'none';\n",
              "    })();\n",
              "  </script>\n",
              "</div>\n",
              "    </div>\n",
              "  </div>\n"
            ]
          },
          "metadata": {},
          "execution_count": 45
        }
      ]
    },
    {
      "cell_type": "code",
      "source": [
        "TITLES = []\n",
        "COMPANIES = []\n",
        "LOCATIONS = []\n",
        "EXPERIENCE = []\n",
        "VACANCIES = []\n",
        "\n",
        "Range = range(1,6)\n",
        "for i in Range:\n",
        "    link = f'https://www.shine.com/job-search/data-analyst-jobs-in-delhi?q=data%20analyst&loc=delhi'\n",
        "    response = requests.get(link)\n",
        "\n",
        "    if response.status_code == 200:\n",
        "        soup = BeautifulSoup(response.content, 'html.parser')\n",
        "\n",
        "        req = soup.select('div h2[itemprop=\"name\"]')\n",
        "        titles = [r.text for r in req]\n",
        "        titles1 = [t.replace(\"|\",\"\") for t in titles]\n",
        "        titles = [t.replace(\"  \", \"\") for t in titles1]\n",
        "        TITLES.extend(titles)\n",
        "\n",
        "        orgs = soup.find_all('div', class_='jobCard_jobCard_cName__mYnow')\n",
        "        orgs1 = [o.text for o in orgs]\n",
        "        sub_str = \"Hiring\"\n",
        "        companies = [o.split(sub_str)[0] for o in orgs1]\n",
        "        COMPANIES.extend(companies)\n",
        "\n",
        "        loc = soup.find_all('div', class_='jobCard_jobCard_lists__fdnsc')\n",
        "        location = [l.text for l in loc]\n",
        "        location = [re.findall(\"Yrs?(.*)$\", i)[0] for i in location]\n",
        "        location = [l.replace(\"+4\", \", \") for l in location]\n",
        "        LOCATIONS.extend(location)\n",
        "\n",
        "        # Fetching Experience\n",
        "        exp = [l.text for l in loc]\n",
        "        experience = [re.findall(\"^(.*) Yrs?\", i)[0] for i in exp]\n",
        "        EXPERIENCE.extend(experience)\n",
        "\n",
        "        vacancies = soup.find_all('ul', class_='jobCard_jobCard_jobDetail__jD82J')\n",
        "        vac = [v.text for v in vacancies]\n",
        "        vacancies = [int(re.findall(r'\\d+', text)[0]) if re.findall(r'\\d+', text) else 1 for text in vac]\n",
        "        VACANCIES.extend(vacancies)\n",
        "\n",
        "    else:\n",
        "        print('Invalid Response')\n",
        "\n",
        "df = pd.DataFrame({'Job Title': TITLES,\n",
        "                   'Employer': COMPANIES,\n",
        "                   'Job Location': LOCATIONS,\n",
        "                   'Experience': EXPERIENCE,\n",
        "                   'Positions': VACANCIES})\n",
        "df.to_csv('Shine_scrap.csv', index=False)\n",
        "\n",
        "print(f'We have managed to fetch {len(df)} job postings while scraping {len(Range)} pages.')"
      ],
      "metadata": {
        "colab": {
          "base_uri": "https://localhost:8080/"
        },
        "id": "3XDPYM-TBC4w",
        "outputId": "d2e1e8e7-b070-40f8-cbcc-ca8d4373c039"
      },
      "execution_count": null,
      "outputs": [
        {
          "output_type": "stream",
          "name": "stdout",
          "text": [
            "We have managed to fetch 100 job postings while scraping 5 pages.\n"
          ]
        }
      ]
    },
    {
      "cell_type": "markdown",
      "source": [
        "Here's a summary of the main components of the code:\n",
        "\n",
        "##**1.** Initialization:\n",
        "\n",
        "Initializes empty lists (TITLES, COMPANIES, LOCATIONS, EXPERIENCE, VACANCIES) to store the extracted data.\n",
        "Defines a range of pages (1 to 5) to iterate through.\n",
        "\n",
        "##**2.**Scraping Loop:\n",
        "\n",
        "Iterates through each page in the specified range.\n",
        "Constructs the URL for each page based on the search criteria (data analyst jobs in Delhi).\n",
        "Sends an HTTP GET request to the Shine website and checks if the response status code is 200 (OK).\n",
        "\n",
        "##**3.**Data Extraction:\n",
        "\n",
        "If the response is valid, the HTML content is parsed using BeautifulSoup.\n",
        "Extracts job titles, company names, job locations, experience requirements, and the number of vacancies from the parsed HTML.\n",
        "\n",
        "##**4.**Data Cleaning:\n",
        "\n",
        "Performs some cleaning on the extracted data, such as removing unwanted characters and formatting.\n",
        "\n",
        "##**5.**DataFrame Creation:\n",
        "\n",
        "Constructs a pandas DataFrame using the extracted and cleaned data.\n",
        "CSV Export:\n",
        "\n",
        "Exports the DataFrame to a CSV file named 'Shine_scrap.csv' without including the index."
      ],
      "metadata": {
        "id": "2HfDwPAL4Rvc"
      }
    },
    {
      "cell_type": "code",
      "source": [
        "shine_data = pd.read_csv('/content/Shine_scrap.csv')\n",
        "shine_data.head(2)"
      ],
      "metadata": {
        "colab": {
          "base_uri": "https://localhost:8080/",
          "height": 112
        },
        "id": "FisTwdsbBGeh",
        "outputId": "6b37df79-706a-4549-b88c-19381202cb51"
      },
      "execution_count": null,
      "outputs": [
        {
          "output_type": "execute_result",
          "data": {
            "text/plain": [
              "                                           Job Title           Employer  \\\n",
              "0  Data Analyst , Senior Data Analyst , Data Anal...  AppSoft Solutions   \n",
              "1                 Data Analyst / Senior Data Analyst               iCRC   \n",
              "\n",
              "                                        Job Location Experience  Positions  \n",
              "0  Delhi+8Noida, Bangalore, Chennai, Hyderabad, G...     0 to 4         10  \n",
              "1                                              Delhi     3 to 8          1  "
            ],
            "text/html": [
              "\n",
              "  <div id=\"df-eac863e9-fc6c-4e36-8238-f97519fcb670\" class=\"colab-df-container\">\n",
              "    <div>\n",
              "<style scoped>\n",
              "    .dataframe tbody tr th:only-of-type {\n",
              "        vertical-align: middle;\n",
              "    }\n",
              "\n",
              "    .dataframe tbody tr th {\n",
              "        vertical-align: top;\n",
              "    }\n",
              "\n",
              "    .dataframe thead th {\n",
              "        text-align: right;\n",
              "    }\n",
              "</style>\n",
              "<table border=\"1\" class=\"dataframe\">\n",
              "  <thead>\n",
              "    <tr style=\"text-align: right;\">\n",
              "      <th></th>\n",
              "      <th>Job Title</th>\n",
              "      <th>Employer</th>\n",
              "      <th>Job Location</th>\n",
              "      <th>Experience</th>\n",
              "      <th>Positions</th>\n",
              "    </tr>\n",
              "  </thead>\n",
              "  <tbody>\n",
              "    <tr>\n",
              "      <th>0</th>\n",
              "      <td>Data Analyst , Senior Data Analyst , Data Anal...</td>\n",
              "      <td>AppSoft Solutions</td>\n",
              "      <td>Delhi+8Noida, Bangalore, Chennai, Hyderabad, G...</td>\n",
              "      <td>0 to 4</td>\n",
              "      <td>10</td>\n",
              "    </tr>\n",
              "    <tr>\n",
              "      <th>1</th>\n",
              "      <td>Data Analyst / Senior Data Analyst</td>\n",
              "      <td>iCRC</td>\n",
              "      <td>Delhi</td>\n",
              "      <td>3 to 8</td>\n",
              "      <td>1</td>\n",
              "    </tr>\n",
              "  </tbody>\n",
              "</table>\n",
              "</div>\n",
              "    <div class=\"colab-df-buttons\">\n",
              "\n",
              "  <div class=\"colab-df-container\">\n",
              "    <button class=\"colab-df-convert\" onclick=\"convertToInteractive('df-eac863e9-fc6c-4e36-8238-f97519fcb670')\"\n",
              "            title=\"Convert this dataframe to an interactive table.\"\n",
              "            style=\"display:none;\">\n",
              "\n",
              "  <svg xmlns=\"http://www.w3.org/2000/svg\" height=\"24px\" viewBox=\"0 -960 960 960\">\n",
              "    <path d=\"M120-120v-720h720v720H120Zm60-500h600v-160H180v160Zm220 220h160v-160H400v160Zm0 220h160v-160H400v160ZM180-400h160v-160H180v160Zm440 0h160v-160H620v160ZM180-180h160v-160H180v160Zm440 0h160v-160H620v160Z\"/>\n",
              "  </svg>\n",
              "    </button>\n",
              "\n",
              "  <style>\n",
              "    .colab-df-container {\n",
              "      display:flex;\n",
              "      gap: 12px;\n",
              "    }\n",
              "\n",
              "    .colab-df-convert {\n",
              "      background-color: #E8F0FE;\n",
              "      border: none;\n",
              "      border-radius: 50%;\n",
              "      cursor: pointer;\n",
              "      display: none;\n",
              "      fill: #1967D2;\n",
              "      height: 32px;\n",
              "      padding: 0 0 0 0;\n",
              "      width: 32px;\n",
              "    }\n",
              "\n",
              "    .colab-df-convert:hover {\n",
              "      background-color: #E2EBFA;\n",
              "      box-shadow: 0px 1px 2px rgba(60, 64, 67, 0.3), 0px 1px 3px 1px rgba(60, 64, 67, 0.15);\n",
              "      fill: #174EA6;\n",
              "    }\n",
              "\n",
              "    .colab-df-buttons div {\n",
              "      margin-bottom: 4px;\n",
              "    }\n",
              "\n",
              "    [theme=dark] .colab-df-convert {\n",
              "      background-color: #3B4455;\n",
              "      fill: #D2E3FC;\n",
              "    }\n",
              "\n",
              "    [theme=dark] .colab-df-convert:hover {\n",
              "      background-color: #434B5C;\n",
              "      box-shadow: 0px 1px 3px 1px rgba(0, 0, 0, 0.15);\n",
              "      filter: drop-shadow(0px 1px 2px rgba(0, 0, 0, 0.3));\n",
              "      fill: #FFFFFF;\n",
              "    }\n",
              "  </style>\n",
              "\n",
              "    <script>\n",
              "      const buttonEl =\n",
              "        document.querySelector('#df-eac863e9-fc6c-4e36-8238-f97519fcb670 button.colab-df-convert');\n",
              "      buttonEl.style.display =\n",
              "        google.colab.kernel.accessAllowed ? 'block' : 'none';\n",
              "\n",
              "      async function convertToInteractive(key) {\n",
              "        const element = document.querySelector('#df-eac863e9-fc6c-4e36-8238-f97519fcb670');\n",
              "        const dataTable =\n",
              "          await google.colab.kernel.invokeFunction('convertToInteractive',\n",
              "                                                    [key], {});\n",
              "        if (!dataTable) return;\n",
              "\n",
              "        const docLinkHtml = 'Like what you see? Visit the ' +\n",
              "          '<a target=\"_blank\" href=https://colab.research.google.com/notebooks/data_table.ipynb>data table notebook</a>'\n",
              "          + ' to learn more about interactive tables.';\n",
              "        element.innerHTML = '';\n",
              "        dataTable['output_type'] = 'display_data';\n",
              "        await google.colab.output.renderOutput(dataTable, element);\n",
              "        const docLink = document.createElement('div');\n",
              "        docLink.innerHTML = docLinkHtml;\n",
              "        element.appendChild(docLink);\n",
              "      }\n",
              "    </script>\n",
              "  </div>\n",
              "\n",
              "\n",
              "<div id=\"df-85cc6f88-c9a4-4fcf-bb06-39c4af99b331\">\n",
              "  <button class=\"colab-df-quickchart\" onclick=\"quickchart('df-85cc6f88-c9a4-4fcf-bb06-39c4af99b331')\"\n",
              "            title=\"Suggest charts\"\n",
              "            style=\"display:none;\">\n",
              "\n",
              "<svg xmlns=\"http://www.w3.org/2000/svg\" height=\"24px\"viewBox=\"0 0 24 24\"\n",
              "     width=\"24px\">\n",
              "    <g>\n",
              "        <path d=\"M19 3H5c-1.1 0-2 .9-2 2v14c0 1.1.9 2 2 2h14c1.1 0 2-.9 2-2V5c0-1.1-.9-2-2-2zM9 17H7v-7h2v7zm4 0h-2V7h2v10zm4 0h-2v-4h2v4z\"/>\n",
              "    </g>\n",
              "</svg>\n",
              "  </button>\n",
              "\n",
              "<style>\n",
              "  .colab-df-quickchart {\n",
              "      --bg-color: #E8F0FE;\n",
              "      --fill-color: #1967D2;\n",
              "      --hover-bg-color: #E2EBFA;\n",
              "      --hover-fill-color: #174EA6;\n",
              "      --disabled-fill-color: #AAA;\n",
              "      --disabled-bg-color: #DDD;\n",
              "  }\n",
              "\n",
              "  [theme=dark] .colab-df-quickchart {\n",
              "      --bg-color: #3B4455;\n",
              "      --fill-color: #D2E3FC;\n",
              "      --hover-bg-color: #434B5C;\n",
              "      --hover-fill-color: #FFFFFF;\n",
              "      --disabled-bg-color: #3B4455;\n",
              "      --disabled-fill-color: #666;\n",
              "  }\n",
              "\n",
              "  .colab-df-quickchart {\n",
              "    background-color: var(--bg-color);\n",
              "    border: none;\n",
              "    border-radius: 50%;\n",
              "    cursor: pointer;\n",
              "    display: none;\n",
              "    fill: var(--fill-color);\n",
              "    height: 32px;\n",
              "    padding: 0;\n",
              "    width: 32px;\n",
              "  }\n",
              "\n",
              "  .colab-df-quickchart:hover {\n",
              "    background-color: var(--hover-bg-color);\n",
              "    box-shadow: 0 1px 2px rgba(60, 64, 67, 0.3), 0 1px 3px 1px rgba(60, 64, 67, 0.15);\n",
              "    fill: var(--button-hover-fill-color);\n",
              "  }\n",
              "\n",
              "  .colab-df-quickchart-complete:disabled,\n",
              "  .colab-df-quickchart-complete:disabled:hover {\n",
              "    background-color: var(--disabled-bg-color);\n",
              "    fill: var(--disabled-fill-color);\n",
              "    box-shadow: none;\n",
              "  }\n",
              "\n",
              "  .colab-df-spinner {\n",
              "    border: 2px solid var(--fill-color);\n",
              "    border-color: transparent;\n",
              "    border-bottom-color: var(--fill-color);\n",
              "    animation:\n",
              "      spin 1s steps(1) infinite;\n",
              "  }\n",
              "\n",
              "  @keyframes spin {\n",
              "    0% {\n",
              "      border-color: transparent;\n",
              "      border-bottom-color: var(--fill-color);\n",
              "      border-left-color: var(--fill-color);\n",
              "    }\n",
              "    20% {\n",
              "      border-color: transparent;\n",
              "      border-left-color: var(--fill-color);\n",
              "      border-top-color: var(--fill-color);\n",
              "    }\n",
              "    30% {\n",
              "      border-color: transparent;\n",
              "      border-left-color: var(--fill-color);\n",
              "      border-top-color: var(--fill-color);\n",
              "      border-right-color: var(--fill-color);\n",
              "    }\n",
              "    40% {\n",
              "      border-color: transparent;\n",
              "      border-right-color: var(--fill-color);\n",
              "      border-top-color: var(--fill-color);\n",
              "    }\n",
              "    60% {\n",
              "      border-color: transparent;\n",
              "      border-right-color: var(--fill-color);\n",
              "    }\n",
              "    80% {\n",
              "      border-color: transparent;\n",
              "      border-right-color: var(--fill-color);\n",
              "      border-bottom-color: var(--fill-color);\n",
              "    }\n",
              "    90% {\n",
              "      border-color: transparent;\n",
              "      border-bottom-color: var(--fill-color);\n",
              "    }\n",
              "  }\n",
              "</style>\n",
              "\n",
              "  <script>\n",
              "    async function quickchart(key) {\n",
              "      const quickchartButtonEl =\n",
              "        document.querySelector('#' + key + ' button');\n",
              "      quickchartButtonEl.disabled = true;  // To prevent multiple clicks.\n",
              "      quickchartButtonEl.classList.add('colab-df-spinner');\n",
              "      try {\n",
              "        const charts = await google.colab.kernel.invokeFunction(\n",
              "            'suggestCharts', [key], {});\n",
              "      } catch (error) {\n",
              "        console.error('Error during call to suggestCharts:', error);\n",
              "      }\n",
              "      quickchartButtonEl.classList.remove('colab-df-spinner');\n",
              "      quickchartButtonEl.classList.add('colab-df-quickchart-complete');\n",
              "    }\n",
              "    (() => {\n",
              "      let quickchartButtonEl =\n",
              "        document.querySelector('#df-85cc6f88-c9a4-4fcf-bb06-39c4af99b331 button');\n",
              "      quickchartButtonEl.style.display =\n",
              "        google.colab.kernel.accessAllowed ? 'block' : 'none';\n",
              "    })();\n",
              "  </script>\n",
              "</div>\n",
              "    </div>\n",
              "  </div>\n"
            ]
          },
          "metadata": {},
          "execution_count": 47
        }
      ]
    },
    {
      "cell_type": "code",
      "source": [
        "plt.figure(figsize=(22,5), dpi=100)\n",
        "ax = sns.barplot(x=df['Employer'][:10], y=df['Positions'][:10])\n",
        "plt.title('Firm Wise vacancy count', fontsize=20)\n",
        "plt.xticks(rotation=90)\n",
        "plt.show()"
      ],
      "metadata": {
        "colab": {
          "base_uri": "https://localhost:8080/",
          "height": 628
        },
        "id": "_4LLSEOdBJpr",
        "outputId": "35b29eaa-b3ea-41a6-ac9e-2cf4fd089d34"
      },
      "execution_count": null,
      "outputs": [
        {
          "output_type": "display_data",
          "data": {
            "text/plain": [
              "<Figure size 2200x500 with 1 Axes>"
            ],
            "image/png": "[encoded data removed]"
          },
          "metadata": {}
        }
      ]
    },
    {
      "cell_type": "code",
      "source": [
        "plt.figure(figsize=(20,5), dpi=100)\n",
        "ax = sns.histplot(df['Positions'])\n",
        "plt.title('Positions Histogram', fontsize=20)\n",
        "plt.legend(['Avg of Positions'])\n",
        "plt.show()"
      ],
      "metadata": {
        "colab": {
          "base_uri": "https://localhost:8080/",
          "height": 459
        },
        "id": "mgI0QaYyBNAU",
        "outputId": "bcd505de-3b78-474a-faee-a46cac0aed3e"
      },
      "execution_count": null,
      "outputs": [
        {
          "output_type": "display_data",
          "data": {
            "text/plain": [
              "<Figure size 2000x500 with 1 Axes>"
            ],
            "image/png": "[encoded data removed]"
          },
          "metadata": {}
        }
      ]
    }
  ]
}